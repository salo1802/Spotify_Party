{
 "cells": [
  {
   "cell_type": "code",
   "execution_count": 1,
   "id": "844b43ae",
   "metadata": {},
   "outputs": [],
   "source": [
    "import json"
   ]
  },
  {
   "cell_type": "code",
   "execution_count": 2,
   "id": "d6ae66b7",
   "metadata": {},
   "outputs": [
    {
     "name": "stdout",
     "output_type": "stream",
     "text": [
      "Type: <class 'dict'>\n",
      "['trap boricua', 'trap latino', 'trap triste']\n",
      "['reggaeton', 'trap latino']\n",
      "['boston hip hop', 'hip hop', 'pop rap', 'rap']\n",
      "['alternative hip hop']\n",
      "['detroit hip hop', 'hip hop', 'rap']\n",
      "['chicago rap', 'melodic rap']\n",
      "['drill espanol', 'trap latino', 'trap triste', 'urbano espanol']\n",
      "['ohio hip hop', 'pop', 'pop rap']\n",
      "['colombian pop', 'pop reggaeton', 'reggaeton colombiano', 'trap latino']\n",
      "['conscious hip hop', 'hip hop', 'rap', 'west coast rap']\n",
      "['dfw rap', 'melodic rap', 'rap']\n",
      "['chicago rap', 'rap']\n",
      "['modern rock']\n",
      "['argentine hip hop', 'bases de freestyle', 'trap argentino', 'trap latino']\n",
      "['reggaeton', 'reggaeton flow', 'trap boricua', 'trap latino']\n",
      "['emo rap', 'lgbtq+ hip hop']\n",
      "['emo', 'modern rock']\n",
      "['urbano espanol']\n",
      "['emo rap', 'miami hip hop']\n",
      "['trap latino']\n",
      "['comic']\n",
      "['argentine hip hop', 'pop venezolano', 'trap argentino']\n",
      "['dance pop', 'pop', 'post-teen pop']\n",
      "['argentine hip hop', 'trap argentino', 'trap latino', 'trap triste']\n",
      "['bachata', 'bachata dominicana', 'latin hip hop', 'latin pop', 'trap latino', 'tropical']\n",
      "['lgbtq+ hip hop', 'pop']\n",
      "['colombian pop', 'latin pop']\n",
      "['conscious hip hop', 'hip hop', 'north carolina hip hop', 'rap']\n",
      "['dance pop', 'edm', 'electropop', 'pop', 'pop dance', 'tropical house']\n",
      "['latin hip hop', 'reggaeton', 'trap latino']\n",
      "['g funk', 'gangster rap', 'hip hop', 'rap', 'west coast rap']\n",
      "['boom bap espanol', 'rap conciencia', 'rap politico', 'venezuelan hip hop']\n",
      "['canadian contemporary r&b', 'canadian pop', 'pop']\n",
      "['pop', 'uk pop']\n",
      "['modern rock', 'rock']\n",
      "['bachata']\n",
      "['chihuahua indie', 'indie triste', 'mexican indie']\n",
      "['emo', 'pop punk']\n",
      "['hip hop', 'new orleans rap', 'pop rap', 'rap', 'trap']\n",
      "['hip hop', 'philly rap', 'pop rap', 'rap', 'southern hip hop', 'trap']\n",
      "['alternative hip hop']\n",
      "['boy band', 'dance pop', 'pop', 'post-teen pop']\n",
      "['atl hip hop', 'dirty south rap', 'hip hop', 'old school atlanta hip hop', 'pop rap', 'rap', 'southern hip hop']\n",
      "['edm', 'pop', 'pop dance', 'tropical house']\n",
      "['australian hip hop', 'pop']\n",
      "['mariachi', 'ranchera']\n",
      "['reggaeton', 'trap latino']\n",
      "['rock-and-roll', 'rockabilly']\n",
      "['art pop', 'electropop', 'pop']\n",
      "['g funk', 'gangster rap', 'hip hop', 'rap', 'west coast rap']\n"
     ]
    }
   ],
   "source": [
    "# Opening JSON file\n",
    "with open('generated.json') as json_file:\n",
    "    data = json.load(json_file)\n",
    " \n",
    "    # Print the type of data variable\n",
    "    print(\"Type:\", type(data))\n",
    "    for x in data['items']:\n",
    "        print(x['genres'])\n",
    "    # Print the data of dictionary\n",
    "    \n",
    "    \n"
   ]
  },
  {
   "cell_type": "code",
   "execution_count": 3,
   "id": "6517f954",
   "metadata": {},
   "outputs": [],
   "source": [
    "def crearLista(genres_array):\n",
    "    lista = []\n",
    "    for x in genres_array:\n",
    "        lista.append(x)        \n",
    "    return lista       "
   ]
  },
  {
   "cell_type": "code",
   "execution_count": null,
   "id": "6c62d14c",
   "metadata": {},
   "outputs": [],
   "source": []
  },
  {
   "cell_type": "code",
   "execution_count": 4,
   "id": "b947c917",
   "metadata": {},
   "outputs": [
    {
     "name": "stdout",
     "output_type": "stream",
     "text": [
      "['trap boricua', 'trap latino', 'trap triste', 'reggaeton', 'trap latino', 'boston hip hop', 'hip hop', 'pop rap', 'rap', 'alternative hip hop', 'detroit hip hop', 'hip hop', 'rap', 'chicago rap', 'melodic rap', 'drill espanol', 'trap latino', 'trap triste', 'urbano espanol', 'ohio hip hop', 'pop', 'pop rap', 'colombian pop', 'pop reggaeton', 'reggaeton colombiano', 'trap latino', 'conscious hip hop', 'hip hop', 'rap', 'west coast rap', 'dfw rap', 'melodic rap', 'rap', 'chicago rap', 'rap', 'modern rock', 'argentine hip hop', 'bases de freestyle', 'trap argentino', 'trap latino', 'reggaeton', 'reggaeton flow', 'trap boricua', 'trap latino', 'emo rap', 'lgbtq+ hip hop', 'emo', 'modern rock', 'urbano espanol', 'emo rap', 'miami hip hop', 'trap latino', 'comic', 'argentine hip hop', 'pop venezolano', 'trap argentino', 'dance pop', 'pop', 'post-teen pop', 'argentine hip hop', 'trap argentino', 'trap latino', 'trap triste', 'bachata', 'bachata dominicana', 'latin hip hop', 'latin pop', 'trap latino', 'tropical', 'lgbtq+ hip hop', 'pop', 'colombian pop', 'latin pop', 'conscious hip hop', 'hip hop', 'north carolina hip hop', 'rap', 'dance pop', 'edm', 'electropop', 'pop', 'pop dance', 'tropical house', 'latin hip hop', 'reggaeton', 'trap latino', 'g funk', 'gangster rap', 'hip hop', 'rap', 'west coast rap', 'boom bap espanol', 'rap conciencia', 'rap politico', 'venezuelan hip hop', 'canadian contemporary r&b', 'canadian pop', 'pop', 'pop', 'uk pop', 'modern rock', 'rock', 'bachata', 'chihuahua indie', 'indie triste', 'mexican indie', 'emo', 'pop punk', 'hip hop', 'new orleans rap', 'pop rap', 'rap', 'trap', 'hip hop', 'philly rap', 'pop rap', 'rap', 'southern hip hop', 'trap', 'alternative hip hop', 'boy band', 'dance pop', 'pop', 'post-teen pop', 'atl hip hop', 'dirty south rap', 'hip hop', 'old school atlanta hip hop', 'pop rap', 'rap', 'southern hip hop', 'edm', 'pop', 'pop dance', 'tropical house', 'australian hip hop', 'pop', 'mariachi', 'ranchera', 'reggaeton', 'trap latino', 'rock-and-roll', 'rockabilly', 'art pop', 'electropop', 'pop', 'g funk', 'gangster rap', 'hip hop', 'rap', 'west coast rap']\n"
     ]
    }
   ],
   "source": [
    "listaFinal = []\n",
    "for x in data['items']:\n",
    "    listAllItem = crearLista(x['genres'])\n",
    "    for y in listAllItem:\n",
    "        listaFinal.append(y)\n",
    "        \n",
    "print(listaFinal)\n"
   ]
  },
  {
   "cell_type": "code",
   "execution_count": 5,
   "id": "268e4aca",
   "metadata": {},
   "outputs": [
    {
     "name": "stdout",
     "output_type": "stream",
     "text": [
      "['trap boricua', 'trap latino', 'trap triste', 'reggaeton', 'boston hip hop', 'hip hop', 'pop rap', 'rap', 'alternative hip hop', 'detroit hip hop', 'chicago rap', 'melodic rap', 'drill espanol', 'urbano espanol', 'ohio hip hop', 'pop', 'colombian pop', 'pop reggaeton', 'reggaeton colombiano', 'conscious hip hop', 'west coast rap', 'dfw rap', 'modern rock', 'argentine hip hop', 'bases de freestyle', 'trap argentino', 'reggaeton flow', 'emo rap', 'lgbtq+ hip hop', 'emo', 'miami hip hop', 'comic', 'pop venezolano', 'dance pop', 'post-teen pop', 'bachata', 'bachata dominicana', 'latin hip hop', 'latin pop', 'tropical', 'north carolina hip hop', 'edm', 'electropop', 'pop dance', 'tropical house', 'g funk', 'gangster rap', 'boom bap espanol', 'rap conciencia', 'rap politico', 'venezuelan hip hop', 'canadian contemporary r&b', 'canadian pop', 'uk pop', 'rock', 'chihuahua indie', 'indie triste', 'mexican indie', 'pop punk', 'new orleans rap', 'trap', 'philly rap', 'southern hip hop', 'boy band', 'atl hip hop', 'dirty south rap', 'old school atlanta hip hop', 'australian hip hop', 'mariachi', 'ranchera', 'rock-and-roll', 'rockabilly', 'art pop']\n"
     ]
    }
   ],
   "source": [
    "nonDuplicates = list( dict.fromkeys(listaFinal) )\n",
    "print(nonDuplicates);"
   ]
  },
  {
   "cell_type": "code",
   "execution_count": 6,
   "id": "70e9adf0",
   "metadata": {},
   "outputs": [
    {
     "name": "stdout",
     "output_type": "stream",
     "text": [
      "{'trap boricua': 0, 'trap latino': 0, 'trap triste': 0, 'reggaeton': 0, 'boston hip hop': 0, 'hip hop': 0, 'pop rap': 0, 'rap': 0, 'alternative hip hop': 0, 'detroit hip hop': 0, 'chicago rap': 0, 'melodic rap': 0, 'drill espanol': 0, 'urbano espanol': 0, 'ohio hip hop': 0, 'pop': 0, 'colombian pop': 0, 'pop reggaeton': 0, 'reggaeton colombiano': 0, 'conscious hip hop': 0, 'west coast rap': 0, 'dfw rap': 0, 'modern rock': 0, 'argentine hip hop': 0, 'bases de freestyle': 0, 'trap argentino': 0, 'reggaeton flow': 0, 'emo rap': 0, 'lgbtq+ hip hop': 0, 'emo': 0, 'miami hip hop': 0, 'comic': 0, 'pop venezolano': 0, 'dance pop': 0, 'post-teen pop': 0, 'bachata': 0, 'bachata dominicana': 0, 'latin hip hop': 0, 'latin pop': 0, 'tropical': 0, 'north carolina hip hop': 0, 'edm': 0, 'electropop': 0, 'pop dance': 0, 'tropical house': 0, 'g funk': 0, 'gangster rap': 0, 'boom bap espanol': 0, 'rap conciencia': 0, 'rap politico': 0, 'venezuelan hip hop': 0, 'canadian contemporary r&b': 0, 'canadian pop': 0, 'uk pop': 0, 'rock': 0, 'chihuahua indie': 0, 'indie triste': 0, 'mexican indie': 0, 'pop punk': 0, 'new orleans rap': 0, 'trap': 0, 'philly rap': 0, 'southern hip hop': 0, 'boy band': 0, 'atl hip hop': 0, 'dirty south rap': 0, 'old school atlanta hip hop': 0, 'australian hip hop': 0, 'mariachi': 0, 'ranchera': 0, 'rock-and-roll': 0, 'rockabilly': 0, 'art pop': 0}\n"
     ]
    }
   ],
   "source": [
    "## {{name:0}, {name:0}, }\n",
    "conteos = {}\n",
    "\n",
    "indice = 0;\n",
    "for i in nonDuplicates:\n",
    "    conteos[nonDuplicates[indice]] = 0\n",
    "    indice +=1\n",
    "\n",
    "print(conteos);"
   ]
  },
  {
   "cell_type": "code",
   "execution_count": 7,
   "id": "d5bf7611",
   "metadata": {},
   "outputs": [
    {
     "name": "stdout",
     "output_type": "stream",
     "text": [
      "{'trap boricua': 2, 'trap latino': 11, 'trap triste': 3, 'reggaeton': 4, 'boston hip hop': 1, 'hip hop': 9, 'pop rap': 5, 'rap': 11, 'alternative hip hop': 2, 'detroit hip hop': 1, 'chicago rap': 2, 'melodic rap': 2, 'drill espanol': 1, 'urbano espanol': 2, 'ohio hip hop': 1, 'pop': 10, 'colombian pop': 2, 'pop reggaeton': 1, 'reggaeton colombiano': 1, 'conscious hip hop': 2, 'west coast rap': 3, 'dfw rap': 1, 'modern rock': 3, 'argentine hip hop': 3, 'bases de freestyle': 1, 'trap argentino': 3, 'reggaeton flow': 1, 'emo rap': 2, 'lgbtq+ hip hop': 2, 'emo': 2, 'miami hip hop': 1, 'comic': 1, 'pop venezolano': 1, 'dance pop': 3, 'post-teen pop': 2, 'bachata': 2, 'bachata dominicana': 1, 'latin hip hop': 2, 'latin pop': 2, 'tropical': 1, 'north carolina hip hop': 1, 'edm': 2, 'electropop': 2, 'pop dance': 2, 'tropical house': 2, 'g funk': 2, 'gangster rap': 2, 'boom bap espanol': 1, 'rap conciencia': 1, 'rap politico': 1, 'venezuelan hip hop': 1, 'canadian contemporary r&b': 1, 'canadian pop': 1, 'uk pop': 1, 'rock': 1, 'chihuahua indie': 1, 'indie triste': 1, 'mexican indie': 1, 'pop punk': 1, 'new orleans rap': 1, 'trap': 2, 'philly rap': 1, 'southern hip hop': 2, 'boy band': 1, 'atl hip hop': 1, 'dirty south rap': 1, 'old school atlanta hip hop': 1, 'australian hip hop': 1, 'mariachi': 1, 'ranchera': 1, 'rock-and-roll': 1, 'rockabilly': 1, 'art pop': 1}\n"
     ]
    }
   ],
   "source": [
    "indice = 0;\n",
    "for i in listaFinal:\n",
    "    conteos[listaFinal[indice]] +=1\n",
    "    indice += 1\n",
    "    \n",
    "print(conteos)"
   ]
  },
  {
   "cell_type": "code",
   "execution_count": null,
   "id": "c0445d5b",
   "metadata": {},
   "outputs": [],
   "source": []
  }
 ],
 "metadata": {
  "kernelspec": {
   "display_name": "Python 3 (ipykernel)",
   "language": "python",
   "name": "python3"
  },
  "language_info": {
   "codemirror_mode": {
    "name": "ipython",
    "version": 3
   },
   "file_extension": ".py",
   "mimetype": "text/x-python",
   "name": "python",
   "nbconvert_exporter": "python",
   "pygments_lexer": "ipython3",
   "version": "3.9.12"
  }
 },
 "nbformat": 4,
 "nbformat_minor": 5
}
